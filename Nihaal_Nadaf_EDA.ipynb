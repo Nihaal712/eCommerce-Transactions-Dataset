{
 "cells": [
  {
   "cell_type": "code",
   "execution_count": 111,
   "id": "5fd1a0b4-59ce-44b0-8633-72ee143856c1",
   "metadata": {},
   "outputs": [],
   "source": [
    "import pandas as pd\n",
    "import numpy as np\n",
    "import matplotlib.pyplot as plt"
   ]
  },
  {
   "cell_type": "code",
   "execution_count": 3,
   "id": "0e90776c-bd3c-4b9a-9a45-1f4b66680b26",
   "metadata": {},
   "outputs": [],
   "source": [
    "customers=pd.read_csv('/Users/nihaalnadaf/Downloads/Customers.csv')\n",
    "products=pd.read_csv('/Users/nihaalnadaf/Downloads/Products.csv')\n",
    "transactions=pd.read_csv('/Users/nihaalnadaf/Downloads/Transactions.csv')"
   ]
  },
  {
   "cell_type": "code",
   "execution_count": 7,
   "id": "811722e8-64f7-46a1-877a-d2f5b54ac88d",
   "metadata": {},
   "outputs": [
    {
     "name": "stdout",
     "output_type": "stream",
     "text": [
      "<class 'pandas.core.frame.DataFrame'>\n",
      "RangeIndex: 200 entries, 0 to 199\n",
      "Data columns (total 4 columns):\n",
      " #   Column        Non-Null Count  Dtype \n",
      "---  ------        --------------  ----- \n",
      " 0   CustomerID    200 non-null    object\n",
      " 1   CustomerName  200 non-null    object\n",
      " 2   Region        200 non-null    object\n",
      " 3   SignupDate    200 non-null    object\n",
      "dtypes: object(4)\n",
      "memory usage: 6.4+ KB\n"
     ]
    }
   ],
   "source": [
    "customers.info()\n"
   ]
  },
  {
   "cell_type": "code",
   "execution_count": 13,
   "id": "e64bcfe0-179c-4931-9cd2-8735f12b4fba",
   "metadata": {},
   "outputs": [
    {
     "data": {
      "text/html": [
       "<div>\n",
       "<style scoped>\n",
       "    .dataframe tbody tr th:only-of-type {\n",
       "        vertical-align: middle;\n",
       "    }\n",
       "\n",
       "    .dataframe tbody tr th {\n",
       "        vertical-align: top;\n",
       "    }\n",
       "\n",
       "    .dataframe thead th {\n",
       "        text-align: right;\n",
       "    }\n",
       "</style>\n",
       "<table border=\"1\" class=\"dataframe\">\n",
       "  <thead>\n",
       "    <tr style=\"text-align: right;\">\n",
       "      <th></th>\n",
       "      <th>CustomerID</th>\n",
       "      <th>CustomerName</th>\n",
       "      <th>Region</th>\n",
       "      <th>SignupDate</th>\n",
       "    </tr>\n",
       "  </thead>\n",
       "  <tbody>\n",
       "    <tr>\n",
       "      <th>count</th>\n",
       "      <td>200</td>\n",
       "      <td>200</td>\n",
       "      <td>200</td>\n",
       "      <td>200</td>\n",
       "    </tr>\n",
       "    <tr>\n",
       "      <th>unique</th>\n",
       "      <td>200</td>\n",
       "      <td>200</td>\n",
       "      <td>4</td>\n",
       "      <td>179</td>\n",
       "    </tr>\n",
       "    <tr>\n",
       "      <th>top</th>\n",
       "      <td>C0001</td>\n",
       "      <td>Lawrence Carroll</td>\n",
       "      <td>South America</td>\n",
       "      <td>2024-11-11</td>\n",
       "    </tr>\n",
       "    <tr>\n",
       "      <th>freq</th>\n",
       "      <td>1</td>\n",
       "      <td>1</td>\n",
       "      <td>59</td>\n",
       "      <td>3</td>\n",
       "    </tr>\n",
       "  </tbody>\n",
       "</table>\n",
       "</div>"
      ],
      "text/plain": [
       "       CustomerID      CustomerName         Region  SignupDate\n",
       "count         200               200            200         200\n",
       "unique        200               200              4         179\n",
       "top         C0001  Lawrence Carroll  South America  2024-11-11\n",
       "freq            1                 1             59           3"
      ]
     },
     "execution_count": 13,
     "metadata": {},
     "output_type": "execute_result"
    }
   ],
   "source": [
    "customers.describe()"
   ]
  },
  {
   "cell_type": "code",
   "execution_count": 15,
   "id": "8482cde2-f866-4221-ad95-d6e5b9eadb4b",
   "metadata": {},
   "outputs": [
    {
     "data": {
      "text/html": [
       "<div>\n",
       "<style scoped>\n",
       "    .dataframe tbody tr th:only-of-type {\n",
       "        vertical-align: middle;\n",
       "    }\n",
       "\n",
       "    .dataframe tbody tr th {\n",
       "        vertical-align: top;\n",
       "    }\n",
       "\n",
       "    .dataframe thead th {\n",
       "        text-align: right;\n",
       "    }\n",
       "</style>\n",
       "<table border=\"1\" class=\"dataframe\">\n",
       "  <thead>\n",
       "    <tr style=\"text-align: right;\">\n",
       "      <th></th>\n",
       "      <th>CustomerID</th>\n",
       "      <th>CustomerName</th>\n",
       "      <th>Region</th>\n",
       "      <th>SignupDate</th>\n",
       "    </tr>\n",
       "  </thead>\n",
       "  <tbody>\n",
       "    <tr>\n",
       "      <th>0</th>\n",
       "      <td>C0001</td>\n",
       "      <td>Lawrence Carroll</td>\n",
       "      <td>South America</td>\n",
       "      <td>2022-07-10</td>\n",
       "    </tr>\n",
       "    <tr>\n",
       "      <th>1</th>\n",
       "      <td>C0002</td>\n",
       "      <td>Elizabeth Lutz</td>\n",
       "      <td>Asia</td>\n",
       "      <td>2022-02-13</td>\n",
       "    </tr>\n",
       "    <tr>\n",
       "      <th>2</th>\n",
       "      <td>C0003</td>\n",
       "      <td>Michael Rivera</td>\n",
       "      <td>South America</td>\n",
       "      <td>2024-03-07</td>\n",
       "    </tr>\n",
       "    <tr>\n",
       "      <th>3</th>\n",
       "      <td>C0004</td>\n",
       "      <td>Kathleen Rodriguez</td>\n",
       "      <td>South America</td>\n",
       "      <td>2022-10-09</td>\n",
       "    </tr>\n",
       "    <tr>\n",
       "      <th>4</th>\n",
       "      <td>C0005</td>\n",
       "      <td>Laura Weber</td>\n",
       "      <td>Asia</td>\n",
       "      <td>2022-08-15</td>\n",
       "    </tr>\n",
       "  </tbody>\n",
       "</table>\n",
       "</div>"
      ],
      "text/plain": [
       "  CustomerID        CustomerName         Region  SignupDate\n",
       "0      C0001    Lawrence Carroll  South America  2022-07-10\n",
       "1      C0002      Elizabeth Lutz           Asia  2022-02-13\n",
       "2      C0003      Michael Rivera  South America  2024-03-07\n",
       "3      C0004  Kathleen Rodriguez  South America  2022-10-09\n",
       "4      C0005         Laura Weber           Asia  2022-08-15"
      ]
     },
     "execution_count": 15,
     "metadata": {},
     "output_type": "execute_result"
    }
   ],
   "source": [
    "customers.head()"
   ]
  },
  {
   "cell_type": "code",
   "execution_count": 17,
   "id": "757690e8-6e6c-43b6-bfe2-153aec59a8ed",
   "metadata": {},
   "outputs": [
    {
     "name": "stdout",
     "output_type": "stream",
     "text": [
      "<class 'pandas.core.frame.DataFrame'>\n",
      "RangeIndex: 100 entries, 0 to 99\n",
      "Data columns (total 4 columns):\n",
      " #   Column       Non-Null Count  Dtype  \n",
      "---  ------       --------------  -----  \n",
      " 0   ProductID    100 non-null    object \n",
      " 1   ProductName  100 non-null    object \n",
      " 2   Category     100 non-null    object \n",
      " 3   Price        100 non-null    float64\n",
      "dtypes: float64(1), object(3)\n",
      "memory usage: 3.3+ KB\n"
     ]
    }
   ],
   "source": [
    "products.info()"
   ]
  },
  {
   "cell_type": "code",
   "execution_count": 19,
   "id": "05187cd9-6d53-44c8-b97b-bc525931840c",
   "metadata": {},
   "outputs": [
    {
     "data": {
      "text/html": [
       "<div>\n",
       "<style scoped>\n",
       "    .dataframe tbody tr th:only-of-type {\n",
       "        vertical-align: middle;\n",
       "    }\n",
       "\n",
       "    .dataframe tbody tr th {\n",
       "        vertical-align: top;\n",
       "    }\n",
       "\n",
       "    .dataframe thead th {\n",
       "        text-align: right;\n",
       "    }\n",
       "</style>\n",
       "<table border=\"1\" class=\"dataframe\">\n",
       "  <thead>\n",
       "    <tr style=\"text-align: right;\">\n",
       "      <th></th>\n",
       "      <th>Price</th>\n",
       "    </tr>\n",
       "  </thead>\n",
       "  <tbody>\n",
       "    <tr>\n",
       "      <th>count</th>\n",
       "      <td>100.000000</td>\n",
       "    </tr>\n",
       "    <tr>\n",
       "      <th>mean</th>\n",
       "      <td>267.551700</td>\n",
       "    </tr>\n",
       "    <tr>\n",
       "      <th>std</th>\n",
       "      <td>143.219383</td>\n",
       "    </tr>\n",
       "    <tr>\n",
       "      <th>min</th>\n",
       "      <td>16.080000</td>\n",
       "    </tr>\n",
       "    <tr>\n",
       "      <th>25%</th>\n",
       "      <td>147.767500</td>\n",
       "    </tr>\n",
       "    <tr>\n",
       "      <th>50%</th>\n",
       "      <td>292.875000</td>\n",
       "    </tr>\n",
       "    <tr>\n",
       "      <th>75%</th>\n",
       "      <td>397.090000</td>\n",
       "    </tr>\n",
       "    <tr>\n",
       "      <th>max</th>\n",
       "      <td>497.760000</td>\n",
       "    </tr>\n",
       "  </tbody>\n",
       "</table>\n",
       "</div>"
      ],
      "text/plain": [
       "            Price\n",
       "count  100.000000\n",
       "mean   267.551700\n",
       "std    143.219383\n",
       "min     16.080000\n",
       "25%    147.767500\n",
       "50%    292.875000\n",
       "75%    397.090000\n",
       "max    497.760000"
      ]
     },
     "execution_count": 19,
     "metadata": {},
     "output_type": "execute_result"
    }
   ],
   "source": [
    "products.describe()"
   ]
  },
  {
   "cell_type": "code",
   "execution_count": 21,
   "id": "2b0d7014-2fb6-4eeb-a927-6bb79fb34344",
   "metadata": {},
   "outputs": [
    {
     "data": {
      "text/html": [
       "<div>\n",
       "<style scoped>\n",
       "    .dataframe tbody tr th:only-of-type {\n",
       "        vertical-align: middle;\n",
       "    }\n",
       "\n",
       "    .dataframe tbody tr th {\n",
       "        vertical-align: top;\n",
       "    }\n",
       "\n",
       "    .dataframe thead th {\n",
       "        text-align: right;\n",
       "    }\n",
       "</style>\n",
       "<table border=\"1\" class=\"dataframe\">\n",
       "  <thead>\n",
       "    <tr style=\"text-align: right;\">\n",
       "      <th></th>\n",
       "      <th>ProductID</th>\n",
       "      <th>ProductName</th>\n",
       "      <th>Category</th>\n",
       "      <th>Price</th>\n",
       "    </tr>\n",
       "  </thead>\n",
       "  <tbody>\n",
       "    <tr>\n",
       "      <th>0</th>\n",
       "      <td>P001</td>\n",
       "      <td>ActiveWear Biography</td>\n",
       "      <td>Books</td>\n",
       "      <td>169.30</td>\n",
       "    </tr>\n",
       "    <tr>\n",
       "      <th>1</th>\n",
       "      <td>P002</td>\n",
       "      <td>ActiveWear Smartwatch</td>\n",
       "      <td>Electronics</td>\n",
       "      <td>346.30</td>\n",
       "    </tr>\n",
       "    <tr>\n",
       "      <th>2</th>\n",
       "      <td>P003</td>\n",
       "      <td>ComfortLiving Biography</td>\n",
       "      <td>Books</td>\n",
       "      <td>44.12</td>\n",
       "    </tr>\n",
       "    <tr>\n",
       "      <th>3</th>\n",
       "      <td>P004</td>\n",
       "      <td>BookWorld Rug</td>\n",
       "      <td>Home Decor</td>\n",
       "      <td>95.69</td>\n",
       "    </tr>\n",
       "    <tr>\n",
       "      <th>4</th>\n",
       "      <td>P005</td>\n",
       "      <td>TechPro T-Shirt</td>\n",
       "      <td>Clothing</td>\n",
       "      <td>429.31</td>\n",
       "    </tr>\n",
       "  </tbody>\n",
       "</table>\n",
       "</div>"
      ],
      "text/plain": [
       "  ProductID              ProductName     Category   Price\n",
       "0      P001     ActiveWear Biography        Books  169.30\n",
       "1      P002    ActiveWear Smartwatch  Electronics  346.30\n",
       "2      P003  ComfortLiving Biography        Books   44.12\n",
       "3      P004            BookWorld Rug   Home Decor   95.69\n",
       "4      P005          TechPro T-Shirt     Clothing  429.31"
      ]
     },
     "execution_count": 21,
     "metadata": {},
     "output_type": "execute_result"
    }
   ],
   "source": [
    "products.head()"
   ]
  },
  {
   "cell_type": "code",
   "execution_count": 23,
   "id": "180ab714-93c6-4581-b434-c7209db35e5d",
   "metadata": {},
   "outputs": [
    {
     "name": "stdout",
     "output_type": "stream",
     "text": [
      "<class 'pandas.core.frame.DataFrame'>\n",
      "RangeIndex: 1000 entries, 0 to 999\n",
      "Data columns (total 7 columns):\n",
      " #   Column           Non-Null Count  Dtype  \n",
      "---  ------           --------------  -----  \n",
      " 0   TransactionID    1000 non-null   object \n",
      " 1   CustomerID       1000 non-null   object \n",
      " 2   ProductID        1000 non-null   object \n",
      " 3   TransactionDate  1000 non-null   object \n",
      " 4   Quantity         1000 non-null   int64  \n",
      " 5   TotalValue       1000 non-null   float64\n",
      " 6   Price            1000 non-null   float64\n",
      "dtypes: float64(2), int64(1), object(4)\n",
      "memory usage: 54.8+ KB\n"
     ]
    }
   ],
   "source": [
    "transactions.info()"
   ]
  },
  {
   "cell_type": "code",
   "execution_count": 25,
   "id": "638ba769-4c7a-45e4-9948-cbf7689d1ecf",
   "metadata": {},
   "outputs": [
    {
     "data": {
      "text/html": [
       "<div>\n",
       "<style scoped>\n",
       "    .dataframe tbody tr th:only-of-type {\n",
       "        vertical-align: middle;\n",
       "    }\n",
       "\n",
       "    .dataframe tbody tr th {\n",
       "        vertical-align: top;\n",
       "    }\n",
       "\n",
       "    .dataframe thead th {\n",
       "        text-align: right;\n",
       "    }\n",
       "</style>\n",
       "<table border=\"1\" class=\"dataframe\">\n",
       "  <thead>\n",
       "    <tr style=\"text-align: right;\">\n",
       "      <th></th>\n",
       "      <th>Quantity</th>\n",
       "      <th>TotalValue</th>\n",
       "      <th>Price</th>\n",
       "    </tr>\n",
       "  </thead>\n",
       "  <tbody>\n",
       "    <tr>\n",
       "      <th>count</th>\n",
       "      <td>1000.000000</td>\n",
       "      <td>1000.000000</td>\n",
       "      <td>1000.00000</td>\n",
       "    </tr>\n",
       "    <tr>\n",
       "      <th>mean</th>\n",
       "      <td>2.537000</td>\n",
       "      <td>689.995560</td>\n",
       "      <td>272.55407</td>\n",
       "    </tr>\n",
       "    <tr>\n",
       "      <th>std</th>\n",
       "      <td>1.117981</td>\n",
       "      <td>493.144478</td>\n",
       "      <td>140.73639</td>\n",
       "    </tr>\n",
       "    <tr>\n",
       "      <th>min</th>\n",
       "      <td>1.000000</td>\n",
       "      <td>16.080000</td>\n",
       "      <td>16.08000</td>\n",
       "    </tr>\n",
       "    <tr>\n",
       "      <th>25%</th>\n",
       "      <td>2.000000</td>\n",
       "      <td>295.295000</td>\n",
       "      <td>147.95000</td>\n",
       "    </tr>\n",
       "    <tr>\n",
       "      <th>50%</th>\n",
       "      <td>3.000000</td>\n",
       "      <td>588.880000</td>\n",
       "      <td>299.93000</td>\n",
       "    </tr>\n",
       "    <tr>\n",
       "      <th>75%</th>\n",
       "      <td>4.000000</td>\n",
       "      <td>1011.660000</td>\n",
       "      <td>404.40000</td>\n",
       "    </tr>\n",
       "    <tr>\n",
       "      <th>max</th>\n",
       "      <td>4.000000</td>\n",
       "      <td>1991.040000</td>\n",
       "      <td>497.76000</td>\n",
       "    </tr>\n",
       "  </tbody>\n",
       "</table>\n",
       "</div>"
      ],
      "text/plain": [
       "          Quantity   TotalValue       Price\n",
       "count  1000.000000  1000.000000  1000.00000\n",
       "mean      2.537000   689.995560   272.55407\n",
       "std       1.117981   493.144478   140.73639\n",
       "min       1.000000    16.080000    16.08000\n",
       "25%       2.000000   295.295000   147.95000\n",
       "50%       3.000000   588.880000   299.93000\n",
       "75%       4.000000  1011.660000   404.40000\n",
       "max       4.000000  1991.040000   497.76000"
      ]
     },
     "execution_count": 25,
     "metadata": {},
     "output_type": "execute_result"
    }
   ],
   "source": [
    "transactions.describe()"
   ]
  },
  {
   "cell_type": "code",
   "execution_count": 27,
   "id": "8e4d3b36-394a-46f1-b6d0-079b501244bf",
   "metadata": {},
   "outputs": [
    {
     "data": {
      "text/html": [
       "<div>\n",
       "<style scoped>\n",
       "    .dataframe tbody tr th:only-of-type {\n",
       "        vertical-align: middle;\n",
       "    }\n",
       "\n",
       "    .dataframe tbody tr th {\n",
       "        vertical-align: top;\n",
       "    }\n",
       "\n",
       "    .dataframe thead th {\n",
       "        text-align: right;\n",
       "    }\n",
       "</style>\n",
       "<table border=\"1\" class=\"dataframe\">\n",
       "  <thead>\n",
       "    <tr style=\"text-align: right;\">\n",
       "      <th></th>\n",
       "      <th>TransactionID</th>\n",
       "      <th>CustomerID</th>\n",
       "      <th>ProductID</th>\n",
       "      <th>TransactionDate</th>\n",
       "      <th>Quantity</th>\n",
       "      <th>TotalValue</th>\n",
       "      <th>Price</th>\n",
       "    </tr>\n",
       "  </thead>\n",
       "  <tbody>\n",
       "    <tr>\n",
       "      <th>0</th>\n",
       "      <td>T00001</td>\n",
       "      <td>C0199</td>\n",
       "      <td>P067</td>\n",
       "      <td>2024-08-25 12:38:23</td>\n",
       "      <td>1</td>\n",
       "      <td>300.68</td>\n",
       "      <td>300.68</td>\n",
       "    </tr>\n",
       "    <tr>\n",
       "      <th>1</th>\n",
       "      <td>T00112</td>\n",
       "      <td>C0146</td>\n",
       "      <td>P067</td>\n",
       "      <td>2024-05-27 22:23:54</td>\n",
       "      <td>1</td>\n",
       "      <td>300.68</td>\n",
       "      <td>300.68</td>\n",
       "    </tr>\n",
       "    <tr>\n",
       "      <th>2</th>\n",
       "      <td>T00166</td>\n",
       "      <td>C0127</td>\n",
       "      <td>P067</td>\n",
       "      <td>2024-04-25 07:38:55</td>\n",
       "      <td>1</td>\n",
       "      <td>300.68</td>\n",
       "      <td>300.68</td>\n",
       "    </tr>\n",
       "    <tr>\n",
       "      <th>3</th>\n",
       "      <td>T00272</td>\n",
       "      <td>C0087</td>\n",
       "      <td>P067</td>\n",
       "      <td>2024-03-26 22:55:37</td>\n",
       "      <td>2</td>\n",
       "      <td>601.36</td>\n",
       "      <td>300.68</td>\n",
       "    </tr>\n",
       "    <tr>\n",
       "      <th>4</th>\n",
       "      <td>T00363</td>\n",
       "      <td>C0070</td>\n",
       "      <td>P067</td>\n",
       "      <td>2024-03-21 15:10:10</td>\n",
       "      <td>3</td>\n",
       "      <td>902.04</td>\n",
       "      <td>300.68</td>\n",
       "    </tr>\n",
       "  </tbody>\n",
       "</table>\n",
       "</div>"
      ],
      "text/plain": [
       "  TransactionID CustomerID ProductID      TransactionDate  Quantity  \\\n",
       "0        T00001      C0199      P067  2024-08-25 12:38:23         1   \n",
       "1        T00112      C0146      P067  2024-05-27 22:23:54         1   \n",
       "2        T00166      C0127      P067  2024-04-25 07:38:55         1   \n",
       "3        T00272      C0087      P067  2024-03-26 22:55:37         2   \n",
       "4        T00363      C0070      P067  2024-03-21 15:10:10         3   \n",
       "\n",
       "   TotalValue   Price  \n",
       "0      300.68  300.68  \n",
       "1      300.68  300.68  \n",
       "2      300.68  300.68  \n",
       "3      601.36  300.68  \n",
       "4      902.04  300.68  "
      ]
     },
     "execution_count": 27,
     "metadata": {},
     "output_type": "execute_result"
    }
   ],
   "source": [
    "transactions.head()"
   ]
  },
  {
   "cell_type": "markdown",
   "id": "d51cca23-d1f7-4ae4-a51d-ecb0781c740a",
   "metadata": {},
   "source": [
    "### Merge the datasets\n"
   ]
  },
  {
   "cell_type": "code",
   "execution_count": 38,
   "id": "a40d0b4a-9054-4a0f-80c0-fca9accc989d",
   "metadata": {},
   "outputs": [],
   "source": [
    "cust_tran=transactions.merge(customers, on='CustomerID', how='left')\n",
    "data=cust_tran.merge(products, on='ProductID', how='left')"
   ]
  },
  {
   "cell_type": "code",
   "execution_count": 46,
   "id": "90fcb610-5f74-4889-8d81-936e1a103a32",
   "metadata": {},
   "outputs": [
    {
     "data": {
      "text/html": [
       "<div>\n",
       "<style scoped>\n",
       "    .dataframe tbody tr th:only-of-type {\n",
       "        vertical-align: middle;\n",
       "    }\n",
       "\n",
       "    .dataframe tbody tr th {\n",
       "        vertical-align: top;\n",
       "    }\n",
       "\n",
       "    .dataframe thead th {\n",
       "        text-align: right;\n",
       "    }\n",
       "</style>\n",
       "<table border=\"1\" class=\"dataframe\">\n",
       "  <thead>\n",
       "    <tr style=\"text-align: right;\">\n",
       "      <th></th>\n",
       "      <th>TransactionID</th>\n",
       "      <th>CustomerID</th>\n",
       "      <th>ProductID</th>\n",
       "      <th>TransactionDate</th>\n",
       "      <th>Quantity</th>\n",
       "      <th>TotalValue</th>\n",
       "      <th>Price_x</th>\n",
       "      <th>CustomerName</th>\n",
       "      <th>Region</th>\n",
       "      <th>SignupDate</th>\n",
       "      <th>ProductName</th>\n",
       "      <th>Category</th>\n",
       "      <th>Price_y</th>\n",
       "    </tr>\n",
       "  </thead>\n",
       "  <tbody>\n",
       "    <tr>\n",
       "      <th>0</th>\n",
       "      <td>T00001</td>\n",
       "      <td>C0199</td>\n",
       "      <td>P067</td>\n",
       "      <td>2024-08-25 12:38:23</td>\n",
       "      <td>1</td>\n",
       "      <td>300.68</td>\n",
       "      <td>300.68</td>\n",
       "      <td>Andrea Jenkins</td>\n",
       "      <td>Europe</td>\n",
       "      <td>2022-12-03</td>\n",
       "      <td>ComfortLiving Bluetooth Speaker</td>\n",
       "      <td>Electronics</td>\n",
       "      <td>300.68</td>\n",
       "    </tr>\n",
       "    <tr>\n",
       "      <th>1</th>\n",
       "      <td>T00112</td>\n",
       "      <td>C0146</td>\n",
       "      <td>P067</td>\n",
       "      <td>2024-05-27 22:23:54</td>\n",
       "      <td>1</td>\n",
       "      <td>300.68</td>\n",
       "      <td>300.68</td>\n",
       "      <td>Brittany Harvey</td>\n",
       "      <td>Asia</td>\n",
       "      <td>2024-09-04</td>\n",
       "      <td>ComfortLiving Bluetooth Speaker</td>\n",
       "      <td>Electronics</td>\n",
       "      <td>300.68</td>\n",
       "    </tr>\n",
       "    <tr>\n",
       "      <th>2</th>\n",
       "      <td>T00166</td>\n",
       "      <td>C0127</td>\n",
       "      <td>P067</td>\n",
       "      <td>2024-04-25 07:38:55</td>\n",
       "      <td>1</td>\n",
       "      <td>300.68</td>\n",
       "      <td>300.68</td>\n",
       "      <td>Kathryn Stevens</td>\n",
       "      <td>Europe</td>\n",
       "      <td>2024-04-04</td>\n",
       "      <td>ComfortLiving Bluetooth Speaker</td>\n",
       "      <td>Electronics</td>\n",
       "      <td>300.68</td>\n",
       "    </tr>\n",
       "    <tr>\n",
       "      <th>3</th>\n",
       "      <td>T00272</td>\n",
       "      <td>C0087</td>\n",
       "      <td>P067</td>\n",
       "      <td>2024-03-26 22:55:37</td>\n",
       "      <td>2</td>\n",
       "      <td>601.36</td>\n",
       "      <td>300.68</td>\n",
       "      <td>Travis Campbell</td>\n",
       "      <td>South America</td>\n",
       "      <td>2024-04-11</td>\n",
       "      <td>ComfortLiving Bluetooth Speaker</td>\n",
       "      <td>Electronics</td>\n",
       "      <td>300.68</td>\n",
       "    </tr>\n",
       "    <tr>\n",
       "      <th>4</th>\n",
       "      <td>T00363</td>\n",
       "      <td>C0070</td>\n",
       "      <td>P067</td>\n",
       "      <td>2024-03-21 15:10:10</td>\n",
       "      <td>3</td>\n",
       "      <td>902.04</td>\n",
       "      <td>300.68</td>\n",
       "      <td>Timothy Perez</td>\n",
       "      <td>Europe</td>\n",
       "      <td>2022-03-15</td>\n",
       "      <td>ComfortLiving Bluetooth Speaker</td>\n",
       "      <td>Electronics</td>\n",
       "      <td>300.68</td>\n",
       "    </tr>\n",
       "  </tbody>\n",
       "</table>\n",
       "</div>"
      ],
      "text/plain": [
       "  TransactionID CustomerID ProductID      TransactionDate  Quantity  \\\n",
       "0        T00001      C0199      P067  2024-08-25 12:38:23         1   \n",
       "1        T00112      C0146      P067  2024-05-27 22:23:54         1   \n",
       "2        T00166      C0127      P067  2024-04-25 07:38:55         1   \n",
       "3        T00272      C0087      P067  2024-03-26 22:55:37         2   \n",
       "4        T00363      C0070      P067  2024-03-21 15:10:10         3   \n",
       "\n",
       "   TotalValue  Price_x     CustomerName         Region  SignupDate  \\\n",
       "0      300.68   300.68   Andrea Jenkins         Europe  2022-12-03   \n",
       "1      300.68   300.68  Brittany Harvey           Asia  2024-09-04   \n",
       "2      300.68   300.68  Kathryn Stevens         Europe  2024-04-04   \n",
       "3      601.36   300.68  Travis Campbell  South America  2024-04-11   \n",
       "4      902.04   300.68    Timothy Perez         Europe  2022-03-15   \n",
       "\n",
       "                       ProductName     Category  Price_y  \n",
       "0  ComfortLiving Bluetooth Speaker  Electronics   300.68  \n",
       "1  ComfortLiving Bluetooth Speaker  Electronics   300.68  \n",
       "2  ComfortLiving Bluetooth Speaker  Electronics   300.68  \n",
       "3  ComfortLiving Bluetooth Speaker  Electronics   300.68  \n",
       "4  ComfortLiving Bluetooth Speaker  Electronics   300.68  "
      ]
     },
     "execution_count": 46,
     "metadata": {},
     "output_type": "execute_result"
    }
   ],
   "source": [
    "data.head()"
   ]
  },
  {
   "cell_type": "code",
   "execution_count": 48,
   "id": "d6648532-7e31-4ccb-8489-58ccf5dd0a82",
   "metadata": {},
   "outputs": [],
   "source": [
    "data=data.drop(columns='Price_y')"
   ]
  },
  {
   "cell_type": "code",
   "execution_count": 52,
   "id": "062ac801-3a38-4dab-8a6a-1126d9e77122",
   "metadata": {},
   "outputs": [],
   "source": [
    "data['ProductPrice']=data['Price_x']\n"
   ]
  },
  {
   "cell_type": "code",
   "execution_count": 56,
   "id": "4b44701d-4766-4427-86eb-b02d75bec7fa",
   "metadata": {},
   "outputs": [],
   "source": [
    "data=data.drop(columns='Price_x')"
   ]
  },
  {
   "cell_type": "code",
   "execution_count": 58,
   "id": "12e99e91-a17b-4c96-81db-4c80537a342d",
   "metadata": {},
   "outputs": [
    {
     "data": {
      "text/html": [
       "<div>\n",
       "<style scoped>\n",
       "    .dataframe tbody tr th:only-of-type {\n",
       "        vertical-align: middle;\n",
       "    }\n",
       "\n",
       "    .dataframe tbody tr th {\n",
       "        vertical-align: top;\n",
       "    }\n",
       "\n",
       "    .dataframe thead th {\n",
       "        text-align: right;\n",
       "    }\n",
       "</style>\n",
       "<table border=\"1\" class=\"dataframe\">\n",
       "  <thead>\n",
       "    <tr style=\"text-align: right;\">\n",
       "      <th></th>\n",
       "      <th>TransactionID</th>\n",
       "      <th>CustomerID</th>\n",
       "      <th>ProductID</th>\n",
       "      <th>TransactionDate</th>\n",
       "      <th>Quantity</th>\n",
       "      <th>TotalValue</th>\n",
       "      <th>CustomerName</th>\n",
       "      <th>Region</th>\n",
       "      <th>SignupDate</th>\n",
       "      <th>ProductName</th>\n",
       "      <th>Category</th>\n",
       "      <th>ProductPrice</th>\n",
       "    </tr>\n",
       "  </thead>\n",
       "  <tbody>\n",
       "    <tr>\n",
       "      <th>0</th>\n",
       "      <td>T00001</td>\n",
       "      <td>C0199</td>\n",
       "      <td>P067</td>\n",
       "      <td>2024-08-25 12:38:23</td>\n",
       "      <td>1</td>\n",
       "      <td>300.68</td>\n",
       "      <td>Andrea Jenkins</td>\n",
       "      <td>Europe</td>\n",
       "      <td>2022-12-03</td>\n",
       "      <td>ComfortLiving Bluetooth Speaker</td>\n",
       "      <td>Electronics</td>\n",
       "      <td>300.68</td>\n",
       "    </tr>\n",
       "    <tr>\n",
       "      <th>1</th>\n",
       "      <td>T00112</td>\n",
       "      <td>C0146</td>\n",
       "      <td>P067</td>\n",
       "      <td>2024-05-27 22:23:54</td>\n",
       "      <td>1</td>\n",
       "      <td>300.68</td>\n",
       "      <td>Brittany Harvey</td>\n",
       "      <td>Asia</td>\n",
       "      <td>2024-09-04</td>\n",
       "      <td>ComfortLiving Bluetooth Speaker</td>\n",
       "      <td>Electronics</td>\n",
       "      <td>300.68</td>\n",
       "    </tr>\n",
       "    <tr>\n",
       "      <th>2</th>\n",
       "      <td>T00166</td>\n",
       "      <td>C0127</td>\n",
       "      <td>P067</td>\n",
       "      <td>2024-04-25 07:38:55</td>\n",
       "      <td>1</td>\n",
       "      <td>300.68</td>\n",
       "      <td>Kathryn Stevens</td>\n",
       "      <td>Europe</td>\n",
       "      <td>2024-04-04</td>\n",
       "      <td>ComfortLiving Bluetooth Speaker</td>\n",
       "      <td>Electronics</td>\n",
       "      <td>300.68</td>\n",
       "    </tr>\n",
       "    <tr>\n",
       "      <th>3</th>\n",
       "      <td>T00272</td>\n",
       "      <td>C0087</td>\n",
       "      <td>P067</td>\n",
       "      <td>2024-03-26 22:55:37</td>\n",
       "      <td>2</td>\n",
       "      <td>601.36</td>\n",
       "      <td>Travis Campbell</td>\n",
       "      <td>South America</td>\n",
       "      <td>2024-04-11</td>\n",
       "      <td>ComfortLiving Bluetooth Speaker</td>\n",
       "      <td>Electronics</td>\n",
       "      <td>300.68</td>\n",
       "    </tr>\n",
       "    <tr>\n",
       "      <th>4</th>\n",
       "      <td>T00363</td>\n",
       "      <td>C0070</td>\n",
       "      <td>P067</td>\n",
       "      <td>2024-03-21 15:10:10</td>\n",
       "      <td>3</td>\n",
       "      <td>902.04</td>\n",
       "      <td>Timothy Perez</td>\n",
       "      <td>Europe</td>\n",
       "      <td>2022-03-15</td>\n",
       "      <td>ComfortLiving Bluetooth Speaker</td>\n",
       "      <td>Electronics</td>\n",
       "      <td>300.68</td>\n",
       "    </tr>\n",
       "  </tbody>\n",
       "</table>\n",
       "</div>"
      ],
      "text/plain": [
       "  TransactionID CustomerID ProductID      TransactionDate  Quantity  \\\n",
       "0        T00001      C0199      P067  2024-08-25 12:38:23         1   \n",
       "1        T00112      C0146      P067  2024-05-27 22:23:54         1   \n",
       "2        T00166      C0127      P067  2024-04-25 07:38:55         1   \n",
       "3        T00272      C0087      P067  2024-03-26 22:55:37         2   \n",
       "4        T00363      C0070      P067  2024-03-21 15:10:10         3   \n",
       "\n",
       "   TotalValue     CustomerName         Region  SignupDate  \\\n",
       "0      300.68   Andrea Jenkins         Europe  2022-12-03   \n",
       "1      300.68  Brittany Harvey           Asia  2024-09-04   \n",
       "2      300.68  Kathryn Stevens         Europe  2024-04-04   \n",
       "3      601.36  Travis Campbell  South America  2024-04-11   \n",
       "4      902.04    Timothy Perez         Europe  2022-03-15   \n",
       "\n",
       "                       ProductName     Category  ProductPrice  \n",
       "0  ComfortLiving Bluetooth Speaker  Electronics        300.68  \n",
       "1  ComfortLiving Bluetooth Speaker  Electronics        300.68  \n",
       "2  ComfortLiving Bluetooth Speaker  Electronics        300.68  \n",
       "3  ComfortLiving Bluetooth Speaker  Electronics        300.68  \n",
       "4  ComfortLiving Bluetooth Speaker  Electronics        300.68  "
      ]
     },
     "execution_count": 58,
     "metadata": {},
     "output_type": "execute_result"
    }
   ],
   "source": [
    "data.head()"
   ]
  },
  {
   "cell_type": "code",
   "execution_count": 60,
   "id": "a6dcd8b5-e469-42ff-9c76-a5530fa9c476",
   "metadata": {},
   "outputs": [
    {
     "data": {
      "text/plain": [
       "TransactionID      0\n",
       "CustomerID         0\n",
       "ProductID          0\n",
       "TransactionDate    0\n",
       "Quantity           0\n",
       "TotalValue         0\n",
       "CustomerName       0\n",
       "Region             0\n",
       "SignupDate         0\n",
       "ProductName        0\n",
       "Category           0\n",
       "ProductPrice       0\n",
       "dtype: int64"
      ]
     },
     "execution_count": 60,
     "metadata": {},
     "output_type": "execute_result"
    }
   ],
   "source": [
    "data.isnull().sum()"
   ]
  },
  {
   "cell_type": "markdown",
   "id": "894a70bc-aecd-42dc-a1fb-49b536d924de",
   "metadata": {},
   "source": [
    "**No Missing or NULL values**"
   ]
  },
  {
   "cell_type": "markdown",
   "id": "aa9d45eb-a5bb-45a1-9ef9-b1c58baf7efd",
   "metadata": {},
   "source": [
    "# EDA"
   ]
  },
  {
   "cell_type": "code",
   "execution_count": 65,
   "id": "550b43a8-61e2-4766-acb6-47696761a8af",
   "metadata": {},
   "outputs": [
    {
     "data": {
      "text/plain": [
       "<Axes: title={'center': 'Signups Over Time'}, xlabel='YearMonth'>"
      ]
     },
     "execution_count": 65,
     "metadata": {},
     "output_type": "execute_result"
    },
    {
     "data": {
      "image/png": "[encoded data removed]",
      "text/plain": [
       "<Figure size 640x480 with 1 Axes>"
      ]
     },
     "metadata": {},
     "output_type": "display_data"
    }
   ],
   "source": [
    "customers['SignupDate'] = pd.to_datetime(customers['SignupDate'])\n",
    "customers['YearMonth'] = customers['SignupDate'].dt.to_period('M')\n",
    "customers.groupby('YearMonth').size().plot(kind='line', title='Signups Over Time')"
   ]
  },
  {
   "cell_type": "markdown",
   "id": "7c1293e7-39b1-43ab-b4f5-c131bddb58d4",
   "metadata": {},
   "source": [
    "**We can come to a conclusion that signups are totally random and add No value to the data**"
   ]
  },
  {
   "cell_type": "markdown",
   "id": "83f46e98-c80b-4bbb-850b-b0c8087eb9d9",
   "metadata": {},
   "source": [
    "## Top Customers by Revenue"
   ]
  },
  {
   "cell_type": "code",
   "execution_count": 67,
   "id": "f27c75bc-f7e0-4091-82e4-e6d351b06d12",
   "metadata": {},
   "outputs": [],
   "source": [
    "top_customers = data.groupby('CustomerID')['TotalValue'].sum().sort_values(ascending=False)"
   ]
  },
  {
   "cell_type": "code",
   "execution_count": 84,
   "id": "bec39a98-9e89-4539-8093-f1c14161de58",
   "metadata": {},
   "outputs": [
    {
     "data": {
      "text/plain": [
       "CustomerID\n",
       "C0141    10673.87\n",
       "C0054     8040.39\n",
       "C0065     7663.70\n",
       "C0156     7634.45\n",
       "C0082     7572.91\n",
       "C0188     7111.32\n",
       "C0059     7073.28\n",
       "C0028     6819.57\n",
       "C0099     6715.72\n",
       "C0165     6708.10\n",
       "Name: TotalValue, dtype: float64"
      ]
     },
     "execution_count": 84,
     "metadata": {},
     "output_type": "execute_result"
    }
   ],
   "source": [
    "top_customers.head(10)\n"
   ]
  },
  {
   "cell_type": "markdown",
   "id": "5d29162b-e073-4071-a53f-3f6946bb75c7",
   "metadata": {},
   "source": [
    "**Above are the customers contributing most revenue**"
   ]
  },
  {
   "cell_type": "code",
   "execution_count": 80,
   "id": "4efd4163-c768-458b-ab00-ba45688097a9",
   "metadata": {},
   "outputs": [],
   "source": [
    "top_10_revenue = top_customers.head(10).sum() / top_customers.sum() * 100"
   ]
  },
  {
   "cell_type": "code",
   "execution_count": 82,
   "id": "f03b4ddc-3a4f-463f-ab5c-90956bb653e1",
   "metadata": {},
   "outputs": [
    {
     "data": {
      "text/plain": [
       "11.016492627865604"
      ]
     },
     "execution_count": 82,
     "metadata": {},
     "output_type": "execute_result"
    }
   ],
   "source": [
    "top_10_revenue"
   ]
  },
  {
   "cell_type": "markdown",
   "id": "79e942f3-af48-48ac-909f-5dc0a23b724f",
   "metadata": {},
   "source": [
    "**The percentage contribution of the top 10 customers to total revenue is about 11.01% (Which is a Significant Amount)**"
   ]
  },
  {
   "cell_type": "markdown",
   "id": "5177328f-a440-431e-9774-afb5dc73d999",
   "metadata": {},
   "source": [
    "## Best-Selling Products"
   ]
  },
  {
   "cell_type": "code",
   "execution_count": 89,
   "id": "535dd432-612f-4af3-9155-6464b704077a",
   "metadata": {},
   "outputs": [],
   "source": [
    "best_selling_products = data.groupby('ProductName')['Quantity'].sum().sort_values(ascending=False)"
   ]
  },
  {
   "cell_type": "code",
   "execution_count": 91,
   "id": "ed6309bf-59df-408a-bf81-6422f83e8ec9",
   "metadata": {},
   "outputs": [
    {
     "data": {
      "text/plain": [
       "ProductName\n",
       "ActiveWear Smartwatch       100\n",
       "SoundWave Headphones         97\n",
       "HomeSense Desk Lamp          81\n",
       "ActiveWear Rug               79\n",
       "SoundWave Cookbook           78\n",
       "                           ... \n",
       "HomeSense Headphones         18\n",
       "SoundWave Laptop             16\n",
       "SoundWave Jacket             16\n",
       "BookWorld Wall Art           15\n",
       "ComfortLiving Headphones     15\n",
       "Name: Quantity, Length: 66, dtype: int64"
      ]
     },
     "execution_count": 91,
     "metadata": {},
     "output_type": "execute_result"
    }
   ],
   "source": [
    "best_selling_products"
   ]
  },
  {
   "cell_type": "code",
   "execution_count": 97,
   "id": "7d7fca69-fac5-4231-ac3d-6ea8e6b373ae",
   "metadata": {},
   "outputs": [],
   "source": [
    "best_selling_percentage = best_selling_products.head(10).sum() / best_selling_products.sum() * 100"
   ]
  },
  {
   "cell_type": "code",
   "execution_count": 99,
   "id": "641a4892-fb6f-4d82-9441-8eb583cb1700",
   "metadata": {},
   "outputs": [
    {
     "data": {
      "text/plain": [
       "30.508474576271187"
      ]
     },
     "execution_count": 99,
     "metadata": {},
     "output_type": "execute_result"
    }
   ],
   "source": [
    "best_selling_percentage"
   ]
  },
  {
   "cell_type": "markdown",
   "id": "f172a219-3434-441f-ac11-eef255b67c70",
   "metadata": {},
   "source": [
    "**The percentage of total sales for the top 10 products is 30.5%**"
   ]
  },
  {
   "cell_type": "markdown",
   "id": "78327d8e-bd94-468e-86f8-762044c8605a",
   "metadata": {},
   "source": [
    "## Sales Trend"
   ]
  },
  {
   "cell_type": "code",
   "execution_count": 105,
   "id": "9887cfe4-ce03-425d-b565-09fa375cf585",
   "metadata": {},
   "outputs": [],
   "source": [
    "data['TransactionDate'] = pd.to_datetime(data['TransactionDate'])\n",
    "data['Month'] = data['TransactionDate'].dt.month"
   ]
  },
  {
   "cell_type": "code",
   "execution_count": 109,
   "id": "674057b5-0f7b-4f57-b2c1-b0443648fe1d",
   "metadata": {},
   "outputs": [],
   "source": [
    "monthly_sales = data.groupby('Month')['TotalValue'].sum()"
   ]
  },
  {
   "cell_type": "code",
   "execution_count": 113,
   "id": "af0bc7df-e5b5-4db7-8192-24cf515a585d",
   "metadata": {},
   "outputs": [
    {
     "data": {
      "image/png": "[encoded data removed]",
      "text/plain": [
       "<Figure size 640x480 with 1 Axes>"
      ]
     },
     "metadata": {},
     "output_type": "display_data"
    }
   ],
   "source": [
    "monthly_sales.plot(kind='line', title='Sales Trends by Month')\n",
    "plt.show()"
   ]
  },
  {
   "cell_type": "markdown",
   "id": "265c8c3b-ea45-4558-8ac0-4420155a90cb",
   "metadata": {},
   "source": [
    "**We can conclude that sales hiked from months seven to nine** "
   ]
  },
  {
   "cell_type": "markdown",
   "id": "469e5442-c552-4222-9335-39dd09f96f38",
   "metadata": {},
   "source": [
    "## Region-Wise Sales Performance"
   ]
  },
  {
   "cell_type": "code",
   "execution_count": 116,
   "id": "3627569f-9d2d-4f1e-8ae9-6d7c4af55d0a",
   "metadata": {},
   "outputs": [],
   "source": [
    "region_sales = data.groupby('Region')['TotalValue'].sum().sort_values(ascending=False)"
   ]
  },
  {
   "cell_type": "code",
   "execution_count": 118,
   "id": "c12501cb-d9a5-4b7b-b4bb-2d25321209f1",
   "metadata": {},
   "outputs": [
    {
     "data": {
      "text/plain": [
       "Region\n",
       "South America    219352.56\n",
       "Europe           166254.63\n",
       "North America    152313.40\n",
       "Asia             152074.97\n",
       "Name: TotalValue, dtype: float64"
      ]
     },
     "execution_count": 118,
     "metadata": {},
     "output_type": "execute_result"
    }
   ],
   "source": [
    "region_sales"
   ]
  },
  {
   "cell_type": "code",
   "execution_count": 120,
   "id": "a8b33aaa-86b3-4ada-b217-c68224864518",
   "metadata": {},
   "outputs": [
    {
     "data": {
      "image/png": "[encoded data removed]",
      "text/plain": [
       "<Figure size 640x480 with 1 Axes>"
      ]
     },
     "metadata": {},
     "output_type": "display_data"
    }
   ],
   "source": [
    "region_sales.plot(kind='bar', title='Sales by Region')\n",
    "plt.show()"
   ]
  },
  {
   "cell_type": "code",
   "execution_count": 122,
   "id": "84722505-1d7d-4596-a2fc-83a511ed7dcd",
   "metadata": {},
   "outputs": [],
   "source": [
    "price_revenue = data.groupby('ProductID').agg({'ProductPrice': 'first', 'TotalValue': 'sum'})"
   ]
  },
  {
   "cell_type": "code",
   "execution_count": 124,
   "id": "bbd4682d-5d85-4ad4-ad71-b426055c8458",
   "metadata": {},
   "outputs": [
    {
     "data": {
      "text/html": [
       "<div>\n",
       "<style scoped>\n",
       "    .dataframe tbody tr th:only-of-type {\n",
       "        vertical-align: middle;\n",
       "    }\n",
       "\n",
       "    .dataframe tbody tr th {\n",
       "        vertical-align: top;\n",
       "    }\n",
       "\n",
       "    .dataframe thead th {\n",
       "        text-align: right;\n",
       "    }\n",
       "</style>\n",
       "<table border=\"1\" class=\"dataframe\">\n",
       "  <thead>\n",
       "    <tr style=\"text-align: right;\">\n",
       "      <th></th>\n",
       "      <th>ProductPrice</th>\n",
       "      <th>TotalValue</th>\n",
       "    </tr>\n",
       "    <tr>\n",
       "      <th>ProductID</th>\n",
       "      <th></th>\n",
       "      <th></th>\n",
       "    </tr>\n",
       "  </thead>\n",
       "  <tbody>\n",
       "    <tr>\n",
       "      <th>P001</th>\n",
       "      <td>169.30</td>\n",
       "      <td>3047.40</td>\n",
       "    </tr>\n",
       "    <tr>\n",
       "      <th>P002</th>\n",
       "      <td>346.30</td>\n",
       "      <td>8657.50</td>\n",
       "    </tr>\n",
       "    <tr>\n",
       "      <th>P003</th>\n",
       "      <td>44.12</td>\n",
       "      <td>1367.72</td>\n",
       "    </tr>\n",
       "    <tr>\n",
       "      <th>P004</th>\n",
       "      <td>95.69</td>\n",
       "      <td>1722.42</td>\n",
       "    </tr>\n",
       "    <tr>\n",
       "      <th>P005</th>\n",
       "      <td>429.31</td>\n",
       "      <td>10303.44</td>\n",
       "    </tr>\n",
       "    <tr>\n",
       "      <th>...</th>\n",
       "      <td>...</td>\n",
       "      <td>...</td>\n",
       "    </tr>\n",
       "    <tr>\n",
       "      <th>P096</th>\n",
       "      <td>307.47</td>\n",
       "      <td>10453.98</td>\n",
       "    </tr>\n",
       "    <tr>\n",
       "      <th>P097</th>\n",
       "      <td>319.34</td>\n",
       "      <td>7983.50</td>\n",
       "    </tr>\n",
       "    <tr>\n",
       "      <th>P098</th>\n",
       "      <td>299.93</td>\n",
       "      <td>4798.88</td>\n",
       "    </tr>\n",
       "    <tr>\n",
       "      <th>P099</th>\n",
       "      <td>354.29</td>\n",
       "      <td>3897.19</td>\n",
       "    </tr>\n",
       "    <tr>\n",
       "      <th>P100</th>\n",
       "      <td>126.34</td>\n",
       "      <td>1895.10</td>\n",
       "    </tr>\n",
       "  </tbody>\n",
       "</table>\n",
       "<p>100 rows × 2 columns</p>\n",
       "</div>"
      ],
      "text/plain": [
       "           ProductPrice  TotalValue\n",
       "ProductID                          \n",
       "P001             169.30     3047.40\n",
       "P002             346.30     8657.50\n",
       "P003              44.12     1367.72\n",
       "P004              95.69     1722.42\n",
       "P005             429.31    10303.44\n",
       "...                 ...         ...\n",
       "P096             307.47    10453.98\n",
       "P097             319.34     7983.50\n",
       "P098             299.93     4798.88\n",
       "P099             354.29     3897.19\n",
       "P100             126.34     1895.10\n",
       "\n",
       "[100 rows x 2 columns]"
      ]
     },
     "execution_count": 124,
     "metadata": {},
     "output_type": "execute_result"
    }
   ],
   "source": [
    "price_revenue "
   ]
  },
  {
   "cell_type": "code",
   "execution_count": 128,
   "id": "22476d93-6a0a-47f9-8de8-6ce22656fb93",
   "metadata": {},
   "outputs": [
    {
     "data": {
      "image/png": "[encoded data removed]",
      "text/plain": [
       "<Figure size 640x480 with 1 Axes>"
      ]
     },
     "metadata": {},
     "output_type": "display_data"
    }
   ],
   "source": [
    "import seaborn as sns\n",
    "sns.scatterplot(x='ProductPrice', y='TotalValue', data=price_revenue)\n",
    "plt.title('Price vs Revenue Correlation')\n",
    "plt.show()"
   ]
  },
  {
   "cell_type": "markdown",
   "id": "b8affe76-0f44-4669-8bf2-9194e87bbdd2",
   "metadata": {},
   "source": [
    "**Product Price and Revenue are highly correlated**"
   ]
  },
  {
   "cell_type": "code",
   "execution_count": null,
   "id": "052a3549-f031-49d5-a937-48bbb6b96f1e",
   "metadata": {},
   "outputs": [],
   "source": []
  }
 ],
 "metadata": {
  "kernelspec": {
   "display_name": "Python 3 (ipykernel)",
   "language": "python",
   "name": "python3"
  },
  "language_info": {
   "codemirror_mode": {
    "name": "ipython",
    "version": 3
   },
   "file_extension": ".py",
   "mimetype": "text/x-python",
   "name": "python",
   "nbconvert_exporter": "python",
   "pygments_lexer": "ipython3",
   "version": "3.12.4"
  }
 },
 "nbformat": 4,
 "nbformat_minor": 5
}

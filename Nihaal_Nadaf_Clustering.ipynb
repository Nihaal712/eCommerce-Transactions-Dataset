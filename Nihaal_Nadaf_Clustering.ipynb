{
 "cells": [
  {
   "cell_type": "code",
   "execution_count": 123,
   "id": "50329315-055f-44ff-93e0-849bb5aee8d7",
   "metadata": {},
   "outputs": [],
   "source": [
    "import pandas as pd\n",
    "from sklearn.cluster import KMeans\n",
    "from sklearn.preprocessing import StandardScaler, OneHotEncoder\n",
    "from sklearn.decomposition import PCA\n",
    "from sklearn.metrics import davies_bouldin_score, silhouette_score, calinski_harabasz_score\n",
    "from sklearn.compose import ColumnTransformer\n",
    "from sklearn.pipeline import Pipeline\n",
    "import matplotlib.pyplot as plt\n",
    "import seaborn as sns\n",
    "\n"
   ]
  },
  {
   "cell_type": "code",
   "execution_count": 125,
   "id": "feaea5a5-7b87-4b52-9847-3e1d6dc113d2",
   "metadata": {},
   "outputs": [],
   "source": [
    "customers=pd.read_csv('/Users/nihaalnadaf/Downloads/Customers.csv')\n",
    "transactions=pd.read_csv('/Users/nihaalnadaf/Downloads/Transactions.csv')"
   ]
  },
  {
   "cell_type": "code",
   "execution_count": 127,
   "id": "365c444d-ef7c-4f12-9ff4-bd243c239f45",
   "metadata": {},
   "outputs": [],
   "source": [
    "transaction_summary = transactions.groupby('CustomerID').agg({\n",
    "    'TotalValue': 'sum',  # Total spending by customer\n",
    "    'Quantity': 'mean',  # Average quantity purchased\n",
    "    'Price': 'mean'  # Average product price\n",
    "}).reset_index()"
   ]
  },
  {
   "cell_type": "code",
   "execution_count": 129,
   "id": "954322bd-251a-4b19-ace1-05bef6ecfe00",
   "metadata": {},
   "outputs": [
    {
     "data": {
      "text/html": [
       "<div>\n",
       "<style scoped>\n",
       "    .dataframe tbody tr th:only-of-type {\n",
       "        vertical-align: middle;\n",
       "    }\n",
       "\n",
       "    .dataframe tbody tr th {\n",
       "        vertical-align: top;\n",
       "    }\n",
       "\n",
       "    .dataframe thead th {\n",
       "        text-align: right;\n",
       "    }\n",
       "</style>\n",
       "<table border=\"1\" class=\"dataframe\">\n",
       "  <thead>\n",
       "    <tr style=\"text-align: right;\">\n",
       "      <th></th>\n",
       "      <th>CustomerID</th>\n",
       "      <th>TotalValue</th>\n",
       "      <th>Quantity</th>\n",
       "      <th>Price</th>\n",
       "    </tr>\n",
       "  </thead>\n",
       "  <tbody>\n",
       "    <tr>\n",
       "      <th>0</th>\n",
       "      <td>C0001</td>\n",
       "      <td>3354.52</td>\n",
       "      <td>2.400000</td>\n",
       "      <td>278.334000</td>\n",
       "    </tr>\n",
       "    <tr>\n",
       "      <th>1</th>\n",
       "      <td>C0002</td>\n",
       "      <td>1862.74</td>\n",
       "      <td>2.500000</td>\n",
       "      <td>208.920000</td>\n",
       "    </tr>\n",
       "    <tr>\n",
       "      <th>2</th>\n",
       "      <td>C0003</td>\n",
       "      <td>2725.38</td>\n",
       "      <td>3.500000</td>\n",
       "      <td>195.707500</td>\n",
       "    </tr>\n",
       "    <tr>\n",
       "      <th>3</th>\n",
       "      <td>C0004</td>\n",
       "      <td>5354.88</td>\n",
       "      <td>2.875000</td>\n",
       "      <td>240.636250</td>\n",
       "    </tr>\n",
       "    <tr>\n",
       "      <th>4</th>\n",
       "      <td>C0005</td>\n",
       "      <td>2034.24</td>\n",
       "      <td>2.333333</td>\n",
       "      <td>291.603333</td>\n",
       "    </tr>\n",
       "    <tr>\n",
       "      <th>...</th>\n",
       "      <td>...</td>\n",
       "      <td>...</td>\n",
       "      <td>...</td>\n",
       "      <td>...</td>\n",
       "    </tr>\n",
       "    <tr>\n",
       "      <th>194</th>\n",
       "      <td>C0196</td>\n",
       "      <td>4982.88</td>\n",
       "      <td>3.000000</td>\n",
       "      <td>416.992500</td>\n",
       "    </tr>\n",
       "    <tr>\n",
       "      <th>195</th>\n",
       "      <td>C0197</td>\n",
       "      <td>1928.65</td>\n",
       "      <td>3.000000</td>\n",
       "      <td>227.056667</td>\n",
       "    </tr>\n",
       "    <tr>\n",
       "      <th>196</th>\n",
       "      <td>C0198</td>\n",
       "      <td>931.83</td>\n",
       "      <td>1.500000</td>\n",
       "      <td>239.705000</td>\n",
       "    </tr>\n",
       "    <tr>\n",
       "      <th>197</th>\n",
       "      <td>C0199</td>\n",
       "      <td>1979.28</td>\n",
       "      <td>2.250000</td>\n",
       "      <td>250.610000</td>\n",
       "    </tr>\n",
       "    <tr>\n",
       "      <th>198</th>\n",
       "      <td>C0200</td>\n",
       "      <td>4758.60</td>\n",
       "      <td>3.200000</td>\n",
       "      <td>296.506000</td>\n",
       "    </tr>\n",
       "  </tbody>\n",
       "</table>\n",
       "<p>199 rows × 4 columns</p>\n",
       "</div>"
      ],
      "text/plain": [
       "    CustomerID  TotalValue  Quantity       Price\n",
       "0        C0001     3354.52  2.400000  278.334000\n",
       "1        C0002     1862.74  2.500000  208.920000\n",
       "2        C0003     2725.38  3.500000  195.707500\n",
       "3        C0004     5354.88  2.875000  240.636250\n",
       "4        C0005     2034.24  2.333333  291.603333\n",
       "..         ...         ...       ...         ...\n",
       "194      C0196     4982.88  3.000000  416.992500\n",
       "195      C0197     1928.65  3.000000  227.056667\n",
       "196      C0198      931.83  1.500000  239.705000\n",
       "197      C0199     1979.28  2.250000  250.610000\n",
       "198      C0200     4758.60  3.200000  296.506000\n",
       "\n",
       "[199 rows x 4 columns]"
      ]
     },
     "execution_count": 129,
     "metadata": {},
     "output_type": "execute_result"
    }
   ],
   "source": [
    "transaction_summary"
   ]
  },
  {
   "cell_type": "code",
   "execution_count": 131,
   "id": "fccf3001-95ff-4b9d-96b2-d07f3924890c",
   "metadata": {},
   "outputs": [],
   "source": [
    "# Merge the data\n",
    "customer_features = customers.merge(transaction_summary, on=\"CustomerID\", how=\"left\")"
   ]
  },
  {
   "cell_type": "code",
   "execution_count": 133,
   "id": "b045ad96-b051-4f3b-b1b6-adc67bd87ad7",
   "metadata": {},
   "outputs": [
    {
     "data": {
      "text/html": [
       "<div>\n",
       "<style scoped>\n",
       "    .dataframe tbody tr th:only-of-type {\n",
       "        vertical-align: middle;\n",
       "    }\n",
       "\n",
       "    .dataframe tbody tr th {\n",
       "        vertical-align: top;\n",
       "    }\n",
       "\n",
       "    .dataframe thead th {\n",
       "        text-align: right;\n",
       "    }\n",
       "</style>\n",
       "<table border=\"1\" class=\"dataframe\">\n",
       "  <thead>\n",
       "    <tr style=\"text-align: right;\">\n",
       "      <th></th>\n",
       "      <th>CustomerID</th>\n",
       "      <th>CustomerName</th>\n",
       "      <th>Region</th>\n",
       "      <th>SignupDate</th>\n",
       "      <th>TotalValue</th>\n",
       "      <th>Quantity</th>\n",
       "      <th>Price</th>\n",
       "    </tr>\n",
       "  </thead>\n",
       "  <tbody>\n",
       "    <tr>\n",
       "      <th>0</th>\n",
       "      <td>C0001</td>\n",
       "      <td>Lawrence Carroll</td>\n",
       "      <td>South America</td>\n",
       "      <td>2022-07-10</td>\n",
       "      <td>3354.52</td>\n",
       "      <td>2.400000</td>\n",
       "      <td>278.334000</td>\n",
       "    </tr>\n",
       "    <tr>\n",
       "      <th>1</th>\n",
       "      <td>C0002</td>\n",
       "      <td>Elizabeth Lutz</td>\n",
       "      <td>Asia</td>\n",
       "      <td>2022-02-13</td>\n",
       "      <td>1862.74</td>\n",
       "      <td>2.500000</td>\n",
       "      <td>208.920000</td>\n",
       "    </tr>\n",
       "    <tr>\n",
       "      <th>2</th>\n",
       "      <td>C0003</td>\n",
       "      <td>Michael Rivera</td>\n",
       "      <td>South America</td>\n",
       "      <td>2024-03-07</td>\n",
       "      <td>2725.38</td>\n",
       "      <td>3.500000</td>\n",
       "      <td>195.707500</td>\n",
       "    </tr>\n",
       "    <tr>\n",
       "      <th>3</th>\n",
       "      <td>C0004</td>\n",
       "      <td>Kathleen Rodriguez</td>\n",
       "      <td>South America</td>\n",
       "      <td>2022-10-09</td>\n",
       "      <td>5354.88</td>\n",
       "      <td>2.875000</td>\n",
       "      <td>240.636250</td>\n",
       "    </tr>\n",
       "    <tr>\n",
       "      <th>4</th>\n",
       "      <td>C0005</td>\n",
       "      <td>Laura Weber</td>\n",
       "      <td>Asia</td>\n",
       "      <td>2022-08-15</td>\n",
       "      <td>2034.24</td>\n",
       "      <td>2.333333</td>\n",
       "      <td>291.603333</td>\n",
       "    </tr>\n",
       "  </tbody>\n",
       "</table>\n",
       "</div>"
      ],
      "text/plain": [
       "  CustomerID        CustomerName         Region  SignupDate  TotalValue  \\\n",
       "0      C0001    Lawrence Carroll  South America  2022-07-10     3354.52   \n",
       "1      C0002      Elizabeth Lutz           Asia  2022-02-13     1862.74   \n",
       "2      C0003      Michael Rivera  South America  2024-03-07     2725.38   \n",
       "3      C0004  Kathleen Rodriguez  South America  2022-10-09     5354.88   \n",
       "4      C0005         Laura Weber           Asia  2022-08-15     2034.24   \n",
       "\n",
       "   Quantity       Price  \n",
       "0  2.400000  278.334000  \n",
       "1  2.500000  208.920000  \n",
       "2  3.500000  195.707500  \n",
       "3  2.875000  240.636250  \n",
       "4  2.333333  291.603333  "
      ]
     },
     "execution_count": 133,
     "metadata": {},
     "output_type": "execute_result"
    }
   ],
   "source": [
    "customer_features.head(5)"
   ]
  },
  {
   "cell_type": "code",
   "execution_count": 135,
   "id": "e066f543-06ab-4b1c-b41d-28faf83c43ee",
   "metadata": {},
   "outputs": [
    {
     "data": {
      "text/plain": [
       "CustomerID      0\n",
       "CustomerName    0\n",
       "Region          0\n",
       "SignupDate      0\n",
       "TotalValue      1\n",
       "Quantity        1\n",
       "Price           1\n",
       "dtype: int64"
      ]
     },
     "execution_count": 135,
     "metadata": {},
     "output_type": "execute_result"
    }
   ],
   "source": [
    "customer_features.isnull().sum()"
   ]
  },
  {
   "cell_type": "code",
   "execution_count": 137,
   "id": "822bee51-a7f9-4744-a66f-0471204ccdad",
   "metadata": {},
   "outputs": [],
   "source": [
    "numerical_features=['TotalValue','Quantity','Price']\n",
    "customer_features[numerical_features]=customer_features[numerical_features].fillna(0)"
   ]
  },
  {
   "cell_type": "code",
   "execution_count": 139,
   "id": "97feb32c-7264-48f2-9d90-a1d5fbfb2d50",
   "metadata": {},
   "outputs": [
    {
     "data": {
      "text/plain": [
       "CustomerID      0\n",
       "CustomerName    0\n",
       "Region          0\n",
       "SignupDate      0\n",
       "TotalValue      0\n",
       "Quantity        0\n",
       "Price           0\n",
       "dtype: int64"
      ]
     },
     "execution_count": 139,
     "metadata": {},
     "output_type": "execute_result"
    }
   ],
   "source": [
    "customer_features.isnull().sum()"
   ]
  },
  {
   "cell_type": "code",
   "execution_count": 141,
   "id": "3de35116-74df-4dd8-925c-a2da3727b0d0",
   "metadata": {},
   "outputs": [],
   "source": [
    "# one hot encoding for region feature\n",
    "categorical_columns = ['Region']\n",
    "encoder = OneHotEncoder(sparse_output=False)  # drop_first to avoid dummy variable trap\n",
    "encoded_columns = encoder.fit_transform(customer_features[categorical_columns])"
   ]
  },
  {
   "cell_type": "code",
   "execution_count": 143,
   "id": "c147b5e8-a611-46aa-9d87-91bf75ba7852",
   "metadata": {},
   "outputs": [],
   "source": [
    "encoded_df = pd.DataFrame(encoded_columns, columns=encoder.get_feature_names_out(categorical_columns))\n",
    "customer_features = pd.concat([customer_features.drop(columns=categorical_columns), encoded_df], axis=1)\n"
   ]
  },
  {
   "cell_type": "code",
   "execution_count": 145,
   "id": "d3920c4f-9a97-40eb-8f6e-65802a56d588",
   "metadata": {},
   "outputs": [
    {
     "data": {
      "text/html": [
       "<div>\n",
       "<style scoped>\n",
       "    .dataframe tbody tr th:only-of-type {\n",
       "        vertical-align: middle;\n",
       "    }\n",
       "\n",
       "    .dataframe tbody tr th {\n",
       "        vertical-align: top;\n",
       "    }\n",
       "\n",
       "    .dataframe thead th {\n",
       "        text-align: right;\n",
       "    }\n",
       "</style>\n",
       "<table border=\"1\" class=\"dataframe\">\n",
       "  <thead>\n",
       "    <tr style=\"text-align: right;\">\n",
       "      <th></th>\n",
       "      <th>CustomerID</th>\n",
       "      <th>CustomerName</th>\n",
       "      <th>SignupDate</th>\n",
       "      <th>TotalValue</th>\n",
       "      <th>Quantity</th>\n",
       "      <th>Price</th>\n",
       "      <th>Region_Asia</th>\n",
       "      <th>Region_Europe</th>\n",
       "      <th>Region_North America</th>\n",
       "      <th>Region_South America</th>\n",
       "    </tr>\n",
       "  </thead>\n",
       "  <tbody>\n",
       "    <tr>\n",
       "      <th>0</th>\n",
       "      <td>C0001</td>\n",
       "      <td>Lawrence Carroll</td>\n",
       "      <td>2022-07-10</td>\n",
       "      <td>3354.52</td>\n",
       "      <td>2.400000</td>\n",
       "      <td>278.334000</td>\n",
       "      <td>0.0</td>\n",
       "      <td>0.0</td>\n",
       "      <td>0.0</td>\n",
       "      <td>1.0</td>\n",
       "    </tr>\n",
       "    <tr>\n",
       "      <th>1</th>\n",
       "      <td>C0002</td>\n",
       "      <td>Elizabeth Lutz</td>\n",
       "      <td>2022-02-13</td>\n",
       "      <td>1862.74</td>\n",
       "      <td>2.500000</td>\n",
       "      <td>208.920000</td>\n",
       "      <td>1.0</td>\n",
       "      <td>0.0</td>\n",
       "      <td>0.0</td>\n",
       "      <td>0.0</td>\n",
       "    </tr>\n",
       "    <tr>\n",
       "      <th>2</th>\n",
       "      <td>C0003</td>\n",
       "      <td>Michael Rivera</td>\n",
       "      <td>2024-03-07</td>\n",
       "      <td>2725.38</td>\n",
       "      <td>3.500000</td>\n",
       "      <td>195.707500</td>\n",
       "      <td>0.0</td>\n",
       "      <td>0.0</td>\n",
       "      <td>0.0</td>\n",
       "      <td>1.0</td>\n",
       "    </tr>\n",
       "    <tr>\n",
       "      <th>3</th>\n",
       "      <td>C0004</td>\n",
       "      <td>Kathleen Rodriguez</td>\n",
       "      <td>2022-10-09</td>\n",
       "      <td>5354.88</td>\n",
       "      <td>2.875000</td>\n",
       "      <td>240.636250</td>\n",
       "      <td>0.0</td>\n",
       "      <td>0.0</td>\n",
       "      <td>0.0</td>\n",
       "      <td>1.0</td>\n",
       "    </tr>\n",
       "    <tr>\n",
       "      <th>4</th>\n",
       "      <td>C0005</td>\n",
       "      <td>Laura Weber</td>\n",
       "      <td>2022-08-15</td>\n",
       "      <td>2034.24</td>\n",
       "      <td>2.333333</td>\n",
       "      <td>291.603333</td>\n",
       "      <td>1.0</td>\n",
       "      <td>0.0</td>\n",
       "      <td>0.0</td>\n",
       "      <td>0.0</td>\n",
       "    </tr>\n",
       "  </tbody>\n",
       "</table>\n",
       "</div>"
      ],
      "text/plain": [
       "  CustomerID        CustomerName  SignupDate  TotalValue  Quantity  \\\n",
       "0      C0001    Lawrence Carroll  2022-07-10     3354.52  2.400000   \n",
       "1      C0002      Elizabeth Lutz  2022-02-13     1862.74  2.500000   \n",
       "2      C0003      Michael Rivera  2024-03-07     2725.38  3.500000   \n",
       "3      C0004  Kathleen Rodriguez  2022-10-09     5354.88  2.875000   \n",
       "4      C0005         Laura Weber  2022-08-15     2034.24  2.333333   \n",
       "\n",
       "        Price  Region_Asia  Region_Europe  Region_North America  \\\n",
       "0  278.334000          0.0            0.0                   0.0   \n",
       "1  208.920000          1.0            0.0                   0.0   \n",
       "2  195.707500          0.0            0.0                   0.0   \n",
       "3  240.636250          0.0            0.0                   0.0   \n",
       "4  291.603333          1.0            0.0                   0.0   \n",
       "\n",
       "   Region_South America  \n",
       "0                   1.0  \n",
       "1                   0.0  \n",
       "2                   1.0  \n",
       "3                   1.0  \n",
       "4                   0.0  "
      ]
     },
     "execution_count": 145,
     "metadata": {},
     "output_type": "execute_result"
    }
   ],
   "source": [
    "customer_features.head(5)"
   ]
  },
  {
   "cell_type": "code",
   "execution_count": 147,
   "id": "f989a03e-18e0-4b75-beca-05ee273764f4",
   "metadata": {},
   "outputs": [
    {
     "name": "stdout",
     "output_type": "stream",
     "text": [
      "<class 'pandas.core.frame.DataFrame'>\n",
      "RangeIndex: 200 entries, 0 to 199\n",
      "Data columns (total 10 columns):\n",
      " #   Column                Non-Null Count  Dtype  \n",
      "---  ------                --------------  -----  \n",
      " 0   CustomerID            200 non-null    object \n",
      " 1   CustomerName          200 non-null    object \n",
      " 2   SignupDate            200 non-null    object \n",
      " 3   TotalValue            200 non-null    float64\n",
      " 4   Quantity              200 non-null    float64\n",
      " 5   Price                 200 non-null    float64\n",
      " 6   Region_Asia           200 non-null    float64\n",
      " 7   Region_Europe         200 non-null    float64\n",
      " 8   Region_North America  200 non-null    float64\n",
      " 9   Region_South America  200 non-null    float64\n",
      "dtypes: float64(7), object(3)\n",
      "memory usage: 15.8+ KB\n"
     ]
    }
   ],
   "source": [
    "customer_features.info()"
   ]
  },
  {
   "cell_type": "code",
   "execution_count": 149,
   "id": "104a1341-7383-429e-a471-b4e7ee494838",
   "metadata": {},
   "outputs": [],
   "source": [
    "customer_features['SignupDate'] = pd.to_datetime(customer_features['SignupDate'], errors='coerce')\n",
    "min_signup_date = customer_features['SignupDate'].min()"
   ]
  },
  {
   "cell_type": "code",
   "execution_count": 151,
   "id": "9fbb0afd-30b4-4d1b-9675-cc53ef17a317",
   "metadata": {},
   "outputs": [],
   "source": [
    "# Create a new feature: days since the earliest signup\n",
    "customer_features['days_since_signup'] = (customer_features['SignupDate'] - min_signup_date).dt.days\n",
    "customer_features = customer_features.drop(columns=['SignupDate'], axis=1)"
   ]
  },
  {
   "cell_type": "code",
   "execution_count": 153,
   "id": "a1efc233-2751-4c29-ad67-59fd70f3b641",
   "metadata": {},
   "outputs": [
    {
     "data": {
      "text/html": [
       "<div>\n",
       "<style scoped>\n",
       "    .dataframe tbody tr th:only-of-type {\n",
       "        vertical-align: middle;\n",
       "    }\n",
       "\n",
       "    .dataframe tbody tr th {\n",
       "        vertical-align: top;\n",
       "    }\n",
       "\n",
       "    .dataframe thead th {\n",
       "        text-align: right;\n",
       "    }\n",
       "</style>\n",
       "<table border=\"1\" class=\"dataframe\">\n",
       "  <thead>\n",
       "    <tr style=\"text-align: right;\">\n",
       "      <th></th>\n",
       "      <th>CustomerID</th>\n",
       "      <th>CustomerName</th>\n",
       "      <th>TotalValue</th>\n",
       "      <th>Quantity</th>\n",
       "      <th>Price</th>\n",
       "      <th>Region_Asia</th>\n",
       "      <th>Region_Europe</th>\n",
       "      <th>Region_North America</th>\n",
       "      <th>Region_South America</th>\n",
       "      <th>days_since_signup</th>\n",
       "    </tr>\n",
       "  </thead>\n",
       "  <tbody>\n",
       "    <tr>\n",
       "      <th>0</th>\n",
       "      <td>C0001</td>\n",
       "      <td>Lawrence Carroll</td>\n",
       "      <td>3354.52</td>\n",
       "      <td>2.4</td>\n",
       "      <td>278.334</td>\n",
       "      <td>0.0</td>\n",
       "      <td>0.0</td>\n",
       "      <td>0.0</td>\n",
       "      <td>1.0</td>\n",
       "      <td>169</td>\n",
       "    </tr>\n",
       "    <tr>\n",
       "      <th>1</th>\n",
       "      <td>C0002</td>\n",
       "      <td>Elizabeth Lutz</td>\n",
       "      <td>1862.74</td>\n",
       "      <td>2.5</td>\n",
       "      <td>208.920</td>\n",
       "      <td>1.0</td>\n",
       "      <td>0.0</td>\n",
       "      <td>0.0</td>\n",
       "      <td>0.0</td>\n",
       "      <td>22</td>\n",
       "    </tr>\n",
       "  </tbody>\n",
       "</table>\n",
       "</div>"
      ],
      "text/plain": [
       "  CustomerID      CustomerName  TotalValue  Quantity    Price  Region_Asia  \\\n",
       "0      C0001  Lawrence Carroll     3354.52       2.4  278.334          0.0   \n",
       "1      C0002    Elizabeth Lutz     1862.74       2.5  208.920          1.0   \n",
       "\n",
       "   Region_Europe  Region_North America  Region_South America  \\\n",
       "0            0.0                   0.0                   1.0   \n",
       "1            0.0                   0.0                   0.0   \n",
       "\n",
       "   days_since_signup  \n",
       "0                169  \n",
       "1                 22  "
      ]
     },
     "execution_count": 153,
     "metadata": {},
     "output_type": "execute_result"
    }
   ],
   "source": [
    "customer_features.head(2)"
   ]
  },
  {
   "cell_type": "code",
   "execution_count": 155,
   "id": "543fb557-9f79-40f1-be6e-049758e206af",
   "metadata": {},
   "outputs": [],
   "source": [
    "correlation_matrix = customer_features[['days_since_signup', 'Quantity']].corr()"
   ]
  },
  {
   "cell_type": "code",
   "execution_count": 157,
   "id": "86951235-c3ea-4906-8c58-9b3a95792d6a",
   "metadata": {},
   "outputs": [
    {
     "data": {
      "text/html": [
       "<div>\n",
       "<style scoped>\n",
       "    .dataframe tbody tr th:only-of-type {\n",
       "        vertical-align: middle;\n",
       "    }\n",
       "\n",
       "    .dataframe tbody tr th {\n",
       "        vertical-align: top;\n",
       "    }\n",
       "\n",
       "    .dataframe thead th {\n",
       "        text-align: right;\n",
       "    }\n",
       "</style>\n",
       "<table border=\"1\" class=\"dataframe\">\n",
       "  <thead>\n",
       "    <tr style=\"text-align: right;\">\n",
       "      <th></th>\n",
       "      <th>days_since_signup</th>\n",
       "      <th>Quantity</th>\n",
       "    </tr>\n",
       "  </thead>\n",
       "  <tbody>\n",
       "    <tr>\n",
       "      <th>days_since_signup</th>\n",
       "      <td>1.000000</td>\n",
       "      <td>0.043108</td>\n",
       "    </tr>\n",
       "    <tr>\n",
       "      <th>Quantity</th>\n",
       "      <td>0.043108</td>\n",
       "      <td>1.000000</td>\n",
       "    </tr>\n",
       "  </tbody>\n",
       "</table>\n",
       "</div>"
      ],
      "text/plain": [
       "                   days_since_signup  Quantity\n",
       "days_since_signup           1.000000  0.043108\n",
       "Quantity                    0.043108  1.000000"
      ]
     },
     "execution_count": 157,
     "metadata": {},
     "output_type": "execute_result"
    }
   ],
   "source": [
    "correlation_matrix"
   ]
  },
  {
   "cell_type": "code",
   "execution_count": 159,
   "id": "16eaeaa9-eccf-4b13-929e-b00de4d5b17b",
   "metadata": {},
   "outputs": [
    {
     "data": {
      "image/png": "[encoded data removed]",
      "text/plain": [
       "<Figure size 800x600 with 1 Axes>"
      ]
     },
     "metadata": {},
     "output_type": "display_data"
    }
   ],
   "source": [
    "plt.figure(figsize=(8, 6))\n",
    "sns.scatterplot(x='days_since_signup', y='Quantity', data=customer_features)\n",
    "plt.title('Scatter Plot: Days Since Signup vs Quantity')\n",
    "plt.xlabel('Days Since Signup')\n",
    "plt.ylabel('Quantity')\n",
    "plt.show()"
   ]
  },
  {
   "cell_type": "markdown",
   "id": "512349b9-0596-4003-92ab-b8807d765ac6",
   "metadata": {},
   "source": [
    "**There is no relation at all between quantity and signup date (neither linear nor non-linear)**"
   ]
  },
  {
   "cell_type": "code",
   "execution_count": 162,
   "id": "dc2a3d1e-3dda-4aca-bb05-b175501fa251",
   "metadata": {},
   "outputs": [],
   "source": [
    "customer_features=customer_features.drop(columns='days_since_signup')"
   ]
  },
  {
   "cell_type": "code",
   "execution_count": 164,
   "id": "d1573ebe-536d-4585-9417-353ecf343323",
   "metadata": {},
   "outputs": [],
   "source": [
    "scaler = StandardScaler()\n",
    "columns_to_drop = ['CustomerID', 'CustomerName'] \n",
    "scaled_features = scaler.fit_transform(customer_features.drop(columns=columns_to_drop, axis=1))"
   ]
  },
  {
   "cell_type": "code",
   "execution_count": 166,
   "id": "3b3dbab9-0c91-4d1b-93ea-bad6d13f2c82",
   "metadata": {},
   "outputs": [
    {
     "data": {
      "text/html": [
       "<div>\n",
       "<style scoped>\n",
       "    .dataframe tbody tr th:only-of-type {\n",
       "        vertical-align: middle;\n",
       "    }\n",
       "\n",
       "    .dataframe tbody tr th {\n",
       "        vertical-align: top;\n",
       "    }\n",
       "\n",
       "    .dataframe thead th {\n",
       "        text-align: right;\n",
       "    }\n",
       "</style>\n",
       "<table border=\"1\" class=\"dataframe\">\n",
       "  <thead>\n",
       "    <tr style=\"text-align: right;\">\n",
       "      <th></th>\n",
       "      <th>CustomerID</th>\n",
       "      <th>CustomerName</th>\n",
       "      <th>TotalValue</th>\n",
       "      <th>Quantity</th>\n",
       "      <th>Price</th>\n",
       "      <th>Region_Asia</th>\n",
       "      <th>Region_Europe</th>\n",
       "      <th>Region_North America</th>\n",
       "      <th>Region_South America</th>\n",
       "    </tr>\n",
       "  </thead>\n",
       "  <tbody>\n",
       "    <tr>\n",
       "      <th>0</th>\n",
       "      <td>C0001</td>\n",
       "      <td>Lawrence Carroll</td>\n",
       "      <td>3354.52</td>\n",
       "      <td>2.4</td>\n",
       "      <td>278.334</td>\n",
       "      <td>0.0</td>\n",
       "      <td>0.0</td>\n",
       "      <td>0.0</td>\n",
       "      <td>1.0</td>\n",
       "    </tr>\n",
       "    <tr>\n",
       "      <th>1</th>\n",
       "      <td>C0002</td>\n",
       "      <td>Elizabeth Lutz</td>\n",
       "      <td>1862.74</td>\n",
       "      <td>2.5</td>\n",
       "      <td>208.920</td>\n",
       "      <td>1.0</td>\n",
       "      <td>0.0</td>\n",
       "      <td>0.0</td>\n",
       "      <td>0.0</td>\n",
       "    </tr>\n",
       "  </tbody>\n",
       "</table>\n",
       "</div>"
      ],
      "text/plain": [
       "  CustomerID      CustomerName  TotalValue  Quantity    Price  Region_Asia  \\\n",
       "0      C0001  Lawrence Carroll     3354.52       2.4  278.334          0.0   \n",
       "1      C0002    Elizabeth Lutz     1862.74       2.5  208.920          1.0   \n",
       "\n",
       "   Region_Europe  Region_North America  Region_South America  \n",
       "0            0.0                   0.0                   1.0  \n",
       "1            0.0                   0.0                   0.0  "
      ]
     },
     "execution_count": 166,
     "metadata": {},
     "output_type": "execute_result"
    }
   ],
   "source": [
    "customer_features.head(2)"
   ]
  },
  {
   "cell_type": "code",
   "execution_count": 168,
   "id": "2f8ef37d-3a06-4a32-bf5b-f90576d4ac42",
   "metadata": {},
   "outputs": [],
   "source": [
    "# Determine the optimal number of clusters using the Elbow Method (KMeans)\n",
    "inertia = []\n",
    "for k in range(2, 11):\n",
    "    kmeans = KMeans(n_clusters=k, random_state=42)\n",
    "    kmeans.fit(scaled_features)\n",
    "    inertia.append(kmeans.inertia_)\n"
   ]
  },
  {
   "cell_type": "code",
   "execution_count": 170,
   "id": "99c0faf6-60a7-4f2f-9d33-7f2c8b7b7a21",
   "metadata": {},
   "outputs": [
    {
     "data": {
      "image/png": "[encoded data removed]",
      "text/plain": [
       "<Figure size 640x480 with 1 Axes>"
      ]
     },
     "metadata": {},
     "output_type": "display_data"
    }
   ],
   "source": [
    "plt.plot(range(2, 11), inertia)\n",
    "plt.xlabel(\"Number of Clusters\")\n",
    "plt.ylabel(\"Inertia\")\n",
    "plt.title(\"Elbow Method\")\n",
    "plt.show()\n"
   ]
  },
  {
   "cell_type": "code",
   "execution_count": 172,
   "id": "755bf72f-ac1e-4b00-a704-60211cd8b195",
   "metadata": {},
   "outputs": [],
   "source": [
    "# Based on the elbow plot \n",
    "optimal_clusters = 4\n"
   ]
  },
  {
   "cell_type": "markdown",
   "id": "c7993dc6-1c8b-41b3-8f47-96b0fccfc5b2",
   "metadata": {},
   "source": [
    "###  KMeans clustering"
   ]
  },
  {
   "cell_type": "code",
   "execution_count": 175,
   "id": "5f23a035-19c3-4124-b053-a39f9c626f22",
   "metadata": {},
   "outputs": [],
   "source": [
    "kmeans = KMeans(n_clusters=4, random_state=42)\n",
    "customer_features['Cluster'] = kmeans.fit_predict(scaled_features)"
   ]
  },
  {
   "cell_type": "code",
   "execution_count": 177,
   "id": "2e65afd6-f51f-43d2-94db-675a2f1357c8",
   "metadata": {},
   "outputs": [
    {
     "data": {
      "text/html": [
       "<div>\n",
       "<style scoped>\n",
       "    .dataframe tbody tr th:only-of-type {\n",
       "        vertical-align: middle;\n",
       "    }\n",
       "\n",
       "    .dataframe tbody tr th {\n",
       "        vertical-align: top;\n",
       "    }\n",
       "\n",
       "    .dataframe thead th {\n",
       "        text-align: right;\n",
       "    }\n",
       "</style>\n",
       "<table border=\"1\" class=\"dataframe\">\n",
       "  <thead>\n",
       "    <tr style=\"text-align: right;\">\n",
       "      <th></th>\n",
       "      <th>CustomerID</th>\n",
       "      <th>CustomerName</th>\n",
       "      <th>TotalValue</th>\n",
       "      <th>Quantity</th>\n",
       "      <th>Price</th>\n",
       "      <th>Region_Asia</th>\n",
       "      <th>Region_Europe</th>\n",
       "      <th>Region_North America</th>\n",
       "      <th>Region_South America</th>\n",
       "      <th>Cluster</th>\n",
       "    </tr>\n",
       "  </thead>\n",
       "  <tbody>\n",
       "    <tr>\n",
       "      <th>0</th>\n",
       "      <td>C0001</td>\n",
       "      <td>Lawrence Carroll</td>\n",
       "      <td>3354.52</td>\n",
       "      <td>2.4</td>\n",
       "      <td>278.334</td>\n",
       "      <td>0.0</td>\n",
       "      <td>0.0</td>\n",
       "      <td>0.0</td>\n",
       "      <td>1.0</td>\n",
       "      <td>2</td>\n",
       "    </tr>\n",
       "    <tr>\n",
       "      <th>1</th>\n",
       "      <td>C0002</td>\n",
       "      <td>Elizabeth Lutz</td>\n",
       "      <td>1862.74</td>\n",
       "      <td>2.5</td>\n",
       "      <td>208.920</td>\n",
       "      <td>1.0</td>\n",
       "      <td>0.0</td>\n",
       "      <td>0.0</td>\n",
       "      <td>0.0</td>\n",
       "      <td>3</td>\n",
       "    </tr>\n",
       "  </tbody>\n",
       "</table>\n",
       "</div>"
      ],
      "text/plain": [
       "  CustomerID      CustomerName  TotalValue  Quantity    Price  Region_Asia  \\\n",
       "0      C0001  Lawrence Carroll     3354.52       2.4  278.334          0.0   \n",
       "1      C0002    Elizabeth Lutz     1862.74       2.5  208.920          1.0   \n",
       "\n",
       "   Region_Europe  Region_North America  Region_South America  Cluster  \n",
       "0            0.0                   0.0                   1.0        2  \n",
       "1            0.0                   0.0                   0.0        3  "
      ]
     },
     "execution_count": 177,
     "metadata": {},
     "output_type": "execute_result"
    }
   ],
   "source": [
    "customer_features.head(2)"
   ]
  },
  {
   "cell_type": "code",
   "execution_count": 179,
   "id": "4537d7b5-1b1f-4d2b-bef3-e8dc2102422d",
   "metadata": {},
   "outputs": [],
   "source": [
    "db_index = davies_bouldin_score(scaled_features, customer_features['Cluster'])\n",
    "sil_score = silhouette_score(scaled_features, customer_features['Cluster'])\n",
    "ch_score = calinski_harabasz_score(scaled_features, customer_features['Cluster'])"
   ]
  },
  {
   "cell_type": "code",
   "execution_count": 181,
   "id": "2ec93381-14a7-4200-bdd9-fa22197241cb",
   "metadata": {},
   "outputs": [
    {
     "name": "stdout",
     "output_type": "stream",
     "text": [
      "DB Index: 0.9391808091523912\n",
      "Silhouette Score: 0.4520950217786072\n",
      "Calinski-Harabasz Index: 87.85519509521238\n"
     ]
    }
   ],
   "source": [
    "print(f\"DB Index: {db_index}\")\n",
    "print(f\"Silhouette Score: {sil_score}\")\n",
    "print(f\"Calinski-Harabasz Index: {ch_score}\")"
   ]
  },
  {
   "cell_type": "code",
   "execution_count": 183,
   "id": "85d01c95-caca-4745-a90d-42c5763bf255",
   "metadata": {},
   "outputs": [],
   "source": [
    "# Visualize clusters using PCA for dimensionality reduction\n",
    "pca = PCA(n_components=2)\n",
    "principal_components = pca.fit_transform(scaled_features)\n",
    "customer_features['PCA1'] = principal_components[:, 0]\n",
    "customer_features['PCA2'] = principal_components[:, 1]"
   ]
  },
  {
   "cell_type": "code",
   "execution_count": 185,
   "id": "0951555d-6461-4ead-a712-c78ad340913b",
   "metadata": {},
   "outputs": [
    {
     "data": {
      "image/png": "[encoded data removed]",
      "text/plain": [
       "<Figure size 800x600 with 1 Axes>"
      ]
     },
     "metadata": {},
     "output_type": "display_data"
    }
   ],
   "source": [
    "# Plot the clusters\n",
    "plt.figure(figsize=(8, 6))\n",
    "sns.scatterplot(x='PCA1', y='PCA2', hue='Cluster', data=customer_features, palette='Set1', s=100, alpha=0.7)\n",
    "plt.title(\"Customer Segmentation (KMeans Clustering) - PCA Plot\")\n",
    "plt.show()"
   ]
  },
  {
   "cell_type": "code",
   "execution_count": null,
   "id": "3b116300-e5df-47df-9ed2-549c1403b390",
   "metadata": {},
   "outputs": [],
   "source": []
  }
 ],
 "metadata": {
  "kernelspec": {
   "display_name": "Python 3 (ipykernel)",
   "language": "python",
   "name": "python3"
  },
  "language_info": {
   "codemirror_mode": {
    "name": "ipython",
    "version": 3
   },
   "file_extension": ".py",
   "mimetype": "text/x-python",
   "name": "python",
   "nbconvert_exporter": "python",
   "pygments_lexer": "ipython3",
   "version": "3.12.4"
  }
 },
 "nbformat": 4,
 "nbformat_minor": 5
}
